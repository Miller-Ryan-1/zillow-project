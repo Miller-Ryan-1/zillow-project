{
 "cells": [
  {
   "cell_type": "markdown",
   "id": "e3de8dad",
   "metadata": {},
   "source": [
    "# $\\mathbf{PREDICTING}$ $\\mathbf{SINGLE}$ $\\mathbf{FAMILY}$ $\\mathbf{PROPERTY}$ $\\mathbf{VALUES}$\n",
    "##  Analysis of 2017 Transactions\n",
    "### Prepared for Zillow Data Science Team\n",
    "$\\rightarrow$Report and Presentation by Ryan Miller, Staff Data Scientist | 6/9/2022"
   ]
  },
  {
   "cell_type": "markdown",
   "id": "125cff7c",
   "metadata": {},
   "source": [
    "----"
   ]
  },
  {
   "cell_type": "markdown",
   "id": "404c0915",
   "metadata": {},
   "source": [
    "# $\\blacksquare$ Executive Summary"
   ]
  },
  {
   "cell_type": "markdown",
   "id": "193939d8",
   "metadata": {},
   "source": [
    "### Problem: Zillow needs to improve our home price prediction models.\n",
    "### Actions: Examined 2017 actual selling price data for 3 Southern California counties, along with features collected by Zillow, to determine the biggest predictors of selling price.  Then built and tested a price prediction model based on these features.\n",
    "### Conclusions:  Location has the biggest impact on selling price.  Across all geographies, square footage is the best predictor of selling price.  Lot size, having a pool, and number of bedrooms also impacts selling price.  From a modeling standpoint, a 2nd degree polynomial is the best when looking at all the data, however for more granularity, each county has different optimal models.\n",
    "### Recommendations: Further divide datasets into price tranches for future modeling.  Re-examine quality scoring as a metric, and possibly expand its use."
   ]
  },
  {
   "cell_type": "markdown",
   "id": "806eb043",
   "metadata": {},
   "source": [
    "# $\\blacksquare$ Libraries Used"
   ]
  },
  {
   "cell_type": "markdown",
   "id": "879758e8",
   "metadata": {},
   "source": [
    "Common DS Libraries:"
   ]
  },
  {
   "cell_type": "code",
   "execution_count": 1,
   "id": "04bf969c",
   "metadata": {},
   "outputs": [],
   "source": [
    "# For data analysis:\n",
    "import numpy as np\n",
    "import pandas as pd\n",
    "\n",
    "# Graphs/Visualizations:\n",
    "import seaborn as sns\n",
    "import matplotlib.pyplot as plt\n",
    "%matplotlib inline\n",
    "\n",
    "# For Statistics and Hypothesis Testing:\n",
    "import scipy.stats as stats\n",
    "\n",
    "# For Modeling:\n",
    "from itertools import combinations\n",
    "from sklearn.feature_selection import SelectKBest, f_regression, RFE, RFECV\n",
    "from sklearn.linear_model import LinearRegression, LassoLars, TweedieRegressor\n",
    "from sklearn.metrics import mean_squared_error\n",
    "from sklearn.preprocessing import PolynomialFeatures, MinMaxScaler"
   ]
  },
  {
   "cell_type": "markdown",
   "id": "b20dab48",
   "metadata": {},
   "source": [
    "Internally Created Helper Functions:"
   ]
  },
  {
   "cell_type": "code",
   "execution_count": 2,
   "id": "ae26dc02",
   "metadata": {},
   "outputs": [],
   "source": [
    "# For acquiring the dataset(note - your credentials will work if stored in an env.py file):\n",
    "from acquire import get_zillow_data\n",
    "\n",
    "# For preparing and cleaning (also acquires it, same env.py guidance as above):\n",
    "from wrangle import wrangle_zillow\n",
    "\n",
    "# For scaling and encoding the dataset:\n",
    "from wrangle import scale_zillow\n",
    "\n",
    "# For splitting the dataset into Train, Validate and Test sets:\n",
    "from splitter import splitter\n",
    "\n",
    "# For running bivariate and multivariate graphical comparisons\n",
    "import explore\n",
    "\n",
    "# For evaluating regression models\n",
    "import evaluate\n",
    "\n",
    "# For comparing reression model outcomes\n",
    "import model_comparator"
   ]
  },
  {
   "cell_type": "markdown",
   "id": "2036d347",
   "metadata": {},
   "source": [
    "Others:"
   ]
  },
  {
   "cell_type": "code",
   "execution_count": 3,
   "id": "a2f37001",
   "metadata": {},
   "outputs": [],
   "source": [
    "#Ignore Warnings:\n",
    "import warnings\n",
    "warnings.filterwarnings('ignore')"
   ]
  },
  {
   "cell_type": "markdown",
   "id": "6bd7beef",
   "metadata": {},
   "source": [
    "# $\\blacksquare$ Data Acquisition and Summary Analysis"
   ]
  },
  {
   "cell_type": "markdown",
   "id": "9c88c39c",
   "metadata": {},
   "source": [
    "## Step 1 - Dataset analyzed in SQL\n",
    "### Dataset include features collected by Zillow along with actual sale price of ~50k homes in the Southern California counties of Orange, Ventura and Los Angeles.\n",
    "- Decided on features to use from properties_2017 table based on initial analysis that the following numerical features are important: \n",
    "    - Year built\n",
    "    - Number of bathrooms and bedrooms\n",
    "    - Building quality type (on a scale from 1-12)\n",
    "    - Calculated finished square feet\n",
    "    - Lot size in square feet\n",
    "    - Number of fireplaces, pools and garages.\n",
    "- Selected one categorical feature, fips.  \n",
    "- Right joined with predictions_2017 on 'parcelid'\n",
    "- SQL query:\n",
    "\n",
    "        SELECT \n",
    "            p.bedroomcnt AS bedrooms,\n",
    "            p.bathroomcnt AS bathrooms,\n",
    "            p.calculatedfinishedsquarefeet AS sqft,\n",
    "            p.taxvaluedollarcnt AS selling_price,\n",
    "            p.yearbuilt,\n",
    "            p.buildingqualitytypeid AS quality,\n",
    "            p.fireplacecnt AS fireplaces,\n",
    "            p.lotsizesquarefeet AS lotsize,\n",
    "            p.poolcnt AS pools,\n",
    "            p.garagecarcnt AS garages,\n",
    "            p.fips\n",
    "        FROM\n",
    "            properties_2017 AS p\n",
    "                RIGHT JOIN\n",
    "            predictions_2017 USING (parcelid)\n",
    "        WHERE\n",
    "            propertylandusetypeid = 261;"
   ]
  },
  {
   "cell_type": "code",
   "execution_count": 4,
   "id": "77f9e545",
   "metadata": {},
   "outputs": [
    {
     "data": {
      "text/html": [
       "<div>\n",
       "<style scoped>\n",
       "    .dataframe tbody tr th:only-of-type {\n",
       "        vertical-align: middle;\n",
       "    }\n",
       "\n",
       "    .dataframe tbody tr th {\n",
       "        vertical-align: top;\n",
       "    }\n",
       "\n",
       "    .dataframe thead th {\n",
       "        text-align: right;\n",
       "    }\n",
       "</style>\n",
       "<table border=\"1\" class=\"dataframe\">\n",
       "  <thead>\n",
       "    <tr style=\"text-align: right;\">\n",
       "      <th></th>\n",
       "      <th>bedrooms</th>\n",
       "      <th>bathrooms</th>\n",
       "      <th>sqft</th>\n",
       "      <th>selling_price</th>\n",
       "      <th>yearbuilt</th>\n",
       "      <th>quality</th>\n",
       "      <th>fireplaces</th>\n",
       "      <th>lotsize</th>\n",
       "      <th>pools</th>\n",
       "      <th>garages</th>\n",
       "      <th>fips</th>\n",
       "    </tr>\n",
       "  </thead>\n",
       "  <tbody>\n",
       "    <tr>\n",
       "      <th>0</th>\n",
       "      <td>4.0</td>\n",
       "      <td>3.5</td>\n",
       "      <td>3100.0</td>\n",
       "      <td>1023282.0</td>\n",
       "      <td>1998.0</td>\n",
       "      <td>NaN</td>\n",
       "      <td>NaN</td>\n",
       "      <td>4506.0</td>\n",
       "      <td>NaN</td>\n",
       "      <td>2.0</td>\n",
       "      <td>6059.0</td>\n",
       "    </tr>\n",
       "    <tr>\n",
       "      <th>1</th>\n",
       "      <td>2.0</td>\n",
       "      <td>1.0</td>\n",
       "      <td>1465.0</td>\n",
       "      <td>464000.0</td>\n",
       "      <td>1967.0</td>\n",
       "      <td>NaN</td>\n",
       "      <td>1.0</td>\n",
       "      <td>12647.0</td>\n",
       "      <td>NaN</td>\n",
       "      <td>1.0</td>\n",
       "      <td>6111.0</td>\n",
       "    </tr>\n",
       "  </tbody>\n",
       "</table>\n",
       "</div>"
      ],
      "text/plain": [
       "   bedrooms  bathrooms    sqft  selling_price  yearbuilt  quality  fireplaces  \\\n",
       "0       4.0        3.5  3100.0      1023282.0     1998.0      NaN         NaN   \n",
       "1       2.0        1.0  1465.0       464000.0     1967.0      NaN         1.0   \n",
       "\n",
       "   lotsize  pools  garages    fips  \n",
       "0   4506.0    NaN      2.0  6059.0  \n",
       "1  12647.0    NaN      1.0  6111.0  "
      ]
     },
     "execution_count": 4,
     "metadata": {},
     "output_type": "execute_result"
    }
   ],
   "source": [
    "df = get_zillow_data()\n",
    "df.head(2)"
   ]
  },
  {
   "cell_type": "markdown",
   "id": "c6054648",
   "metadata": {},
   "source": [
    "## Step 2 - Examine data to determine how to prep/clean (for wrangle.py file)"
   ]
  },
  {
   "cell_type": "code",
   "execution_count": 5,
   "id": "61e23041",
   "metadata": {},
   "outputs": [
    {
     "name": "stdout",
     "output_type": "stream",
     "text": [
      "<class 'pandas.core.frame.DataFrame'>\n",
      "Int64Index: 52442 entries, 0 to 52441\n",
      "Data columns (total 11 columns):\n",
      " #   Column         Non-Null Count  Dtype  \n",
      "---  ------         --------------  -----  \n",
      " 0   bedrooms       52442 non-null  float64\n",
      " 1   bathrooms      52442 non-null  float64\n",
      " 2   sqft           52360 non-null  float64\n",
      " 3   selling_price  52441 non-null  float64\n",
      " 4   yearbuilt      52326 non-null  float64\n",
      " 5   quality        33741 non-null  float64\n",
      " 6   fireplaces     7243 non-null   float64\n",
      " 7   lotsize        52073 non-null  float64\n",
      " 8   pools          11096 non-null  float64\n",
      " 9   garages        18015 non-null  float64\n",
      " 10  fips           52442 non-null  float64\n",
      "dtypes: float64(11)\n",
      "memory usage: 4.8 MB\n"
     ]
    }
   ],
   "source": [
    "df.info()"
   ]
  },
  {
   "cell_type": "markdown",
   "id": "22545b01",
   "metadata": {},
   "source": [
    "##### Check for dupliactes:"
   ]
  },
  {
   "cell_type": "code",
   "execution_count": 6,
   "id": "b72247fa",
   "metadata": {},
   "outputs": [
    {
     "name": "stdout",
     "output_type": "stream",
     "text": [
      "<class 'pandas.core.frame.DataFrame'>\n",
      "Int64Index: 52442 entries, 0 to 52441\n",
      "Data columns (total 11 columns):\n",
      " #   Column         Non-Null Count  Dtype  \n",
      "---  ------         --------------  -----  \n",
      " 0   bedrooms       52442 non-null  float64\n",
      " 1   bathrooms      52442 non-null  float64\n",
      " 2   sqft           52360 non-null  float64\n",
      " 3   selling_price  52441 non-null  float64\n",
      " 4   yearbuilt      52326 non-null  float64\n",
      " 5   quality        33741 non-null  float64\n",
      " 6   fireplaces     7243 non-null   float64\n",
      " 7   lotsize        52073 non-null  float64\n",
      " 8   pools          11096 non-null  float64\n",
      " 9   garages        18015 non-null  float64\n",
      " 10  fips           52442 non-null  float64\n",
      "dtypes: float64(11)\n",
      "memory usage: 4.8 MB\n"
     ]
    }
   ],
   "source": [
    "df.drop_duplicates()\n",
    "df.info()"
   ]
  },
  {
   "cell_type": "markdown",
   "id": "3f2d9ce4",
   "metadata": {},
   "source": [
    "##### Run value counts on all columns:"
   ]
  },
  {
   "cell_type": "code",
   "execution_count": 7,
   "id": "b0990efe",
   "metadata": {
    "scrolled": true
   },
   "outputs": [
    {
     "name": "stdout",
     "output_type": "stream",
     "text": [
      "bedrooms\n",
      "3.0     23360\n",
      "4.0     15240\n",
      "2.0      8340\n",
      "5.0      3973\n",
      "6.0       635\n",
      "1.0       612\n",
      "0.0       137\n",
      "7.0       106\n",
      "8.0        24\n",
      "9.0         8\n",
      "12.0        3\n",
      "10.0        2\n",
      "14.0        1\n",
      "11.0        1\n",
      "Name: bedrooms, dtype: int64\n",
      "0 null values\n",
      "\n",
      "-----\n",
      "\n",
      "bathrooms\n",
      "2.0     21894\n",
      "3.0     10673\n",
      "1.0      9568\n",
      "2.5      3934\n",
      "4.0      2227\n",
      "3.5       918\n",
      "1.5       841\n",
      "5.0       803\n",
      "4.5       687\n",
      "6.0       322\n",
      "5.5       224\n",
      "0.0       121\n",
      "7.0        88\n",
      "8.0        53\n",
      "6.5        47\n",
      "7.5        16\n",
      "9.0        13\n",
      "10.0        5\n",
      "11.0        3\n",
      "8.5         3\n",
      "18.0        1\n",
      "13.0        1\n",
      "Name: bathrooms, dtype: int64\n",
      "0 null values\n",
      "\n",
      "-----\n",
      "\n",
      "sqft\n",
      "1120.0    128\n",
      "1200.0    119\n",
      "1080.0    102\n",
      "1040.0     86\n",
      "936.0      86\n",
      "         ... \n",
      "7088.0      1\n",
      "604.0       1\n",
      "5422.0      1\n",
      "534.0       1\n",
      "5655.0      1\n",
      "Name: sqft, Length: 4723, dtype: int64\n",
      "82 null values\n",
      "\n",
      "-----\n",
      "\n",
      "selling_price\n",
      "455000.0    34\n",
      "600000.0    30\n",
      "550000.0    24\n",
      "500000.0    24\n",
      "450000.0    24\n",
      "            ..\n",
      "209341.0     1\n",
      "203304.0     1\n",
      "497409.0     1\n",
      "421945.0     1\n",
      "49546.0      1\n",
      "Name: selling_price, Length: 38942, dtype: int64\n",
      "1 null values\n",
      "\n",
      "-----\n",
      "\n",
      "yearbuilt\n",
      "1955.0    1899\n",
      "1950.0    1608\n",
      "1954.0    1520\n",
      "1953.0    1485\n",
      "1956.0    1387\n",
      "          ... \n",
      "1892.0       1\n",
      "1878.0       1\n",
      "1882.0       1\n",
      "1894.0       1\n",
      "1880.0       1\n",
      "Name: yearbuilt, Length: 133, dtype: int64\n",
      "116 null values\n",
      "\n",
      "-----\n",
      "\n",
      "quality\n",
      "6.0     10289\n",
      "8.0      8244\n",
      "4.0      8157\n",
      "7.0      3427\n",
      "5.0      1513\n",
      "9.0      1121\n",
      "11.0      514\n",
      "10.0      230\n",
      "3.0       152\n",
      "12.0       81\n",
      "1.0         8\n",
      "2.0         5\n",
      "Name: quality, dtype: int64\n",
      "18701 null values\n",
      "\n",
      "-----\n",
      "\n",
      "fireplaces\n",
      "1.0    6031\n",
      "2.0     945\n",
      "3.0     229\n",
      "4.0      35\n",
      "5.0       3\n",
      "Name: fireplaces, dtype: int64\n",
      "45199 null values\n",
      "\n",
      "-----\n",
      "\n",
      "lotsize\n",
      "6000.0      876\n",
      "5000.0      414\n",
      "7200.0      307\n",
      "7000.0      287\n",
      "6500.0      272\n",
      "           ... \n",
      "11061.0       1\n",
      "15757.0       1\n",
      "100066.0      1\n",
      "3701.0        1\n",
      "47405.0       1\n",
      "Name: lotsize, Length: 14292, dtype: int64\n",
      "369 null values\n",
      "\n",
      "-----\n",
      "\n",
      "pools\n",
      "1.0    11096\n",
      "Name: pools, dtype: int64\n",
      "41346 null values\n",
      "\n",
      "-----\n",
      "\n",
      "garages\n",
      "2.0     14802\n",
      "1.0      2202\n",
      "3.0       621\n",
      "4.0       254\n",
      "0.0        65\n",
      "5.0        45\n",
      "6.0        13\n",
      "7.0         3\n",
      "10.0        3\n",
      "8.0         2\n",
      "9.0         2\n",
      "11.0        1\n",
      "13.0        1\n",
      "14.0        1\n",
      "Name: garages, dtype: int64\n",
      "34427 null values\n",
      "\n",
      "-----\n",
      "\n",
      "fips\n",
      "6037.0    33911\n",
      "6059.0    14136\n",
      "6111.0     4395\n",
      "Name: fips, dtype: int64\n",
      "0 null values\n",
      "\n",
      "-----\n",
      "\n"
     ]
    }
   ],
   "source": [
    "for i in df.columns:\n",
    "    print(i)\n",
    "    print(df[i].value_counts())\n",
    "    print(f'{df[df[i].isnull()].shape[0]} null values')\n",
    "    print('\\n-----\\n')"
   ]
  },
  {
   "cell_type": "markdown",
   "id": "cebbaa96",
   "metadata": {},
   "source": [
    "##### Examine Descriptive Stats"
   ]
  },
  {
   "cell_type": "code",
   "execution_count": 8,
   "id": "1843039d",
   "metadata": {},
   "outputs": [
    {
     "data": {
      "text/html": [
       "<div>\n",
       "<style scoped>\n",
       "    .dataframe tbody tr th:only-of-type {\n",
       "        vertical-align: middle;\n",
       "    }\n",
       "\n",
       "    .dataframe tbody tr th {\n",
       "        vertical-align: top;\n",
       "    }\n",
       "\n",
       "    .dataframe thead th {\n",
       "        text-align: right;\n",
       "    }\n",
       "</style>\n",
       "<table border=\"1\" class=\"dataframe\">\n",
       "  <thead>\n",
       "    <tr style=\"text-align: right;\">\n",
       "      <th></th>\n",
       "      <th>count</th>\n",
       "      <th>mean</th>\n",
       "      <th>std</th>\n",
       "      <th>min</th>\n",
       "      <th>25%</th>\n",
       "      <th>50%</th>\n",
       "      <th>75%</th>\n",
       "      <th>max</th>\n",
       "    </tr>\n",
       "  </thead>\n",
       "  <tbody>\n",
       "    <tr>\n",
       "      <th>bedrooms</th>\n",
       "      <td>52442.0</td>\n",
       "      <td>3.300675</td>\n",
       "      <td>0.949086</td>\n",
       "      <td>0.0</td>\n",
       "      <td>3.0</td>\n",
       "      <td>3.0</td>\n",
       "      <td>4.0</td>\n",
       "      <td>14.0</td>\n",
       "    </tr>\n",
       "    <tr>\n",
       "      <th>bathrooms</th>\n",
       "      <td>52442.0</td>\n",
       "      <td>2.299397</td>\n",
       "      <td>1.022764</td>\n",
       "      <td>0.0</td>\n",
       "      <td>2.0</td>\n",
       "      <td>2.0</td>\n",
       "      <td>3.0</td>\n",
       "      <td>18.0</td>\n",
       "    </tr>\n",
       "    <tr>\n",
       "      <th>sqft</th>\n",
       "      <td>52360.0</td>\n",
       "      <td>1922.874083</td>\n",
       "      <td>1004.363491</td>\n",
       "      <td>128.0</td>\n",
       "      <td>1268.0</td>\n",
       "      <td>1659.0</td>\n",
       "      <td>2306.0</td>\n",
       "      <td>21929.0</td>\n",
       "    </tr>\n",
       "    <tr>\n",
       "      <th>selling_price</th>\n",
       "      <td>52441.0</td>\n",
       "      <td>529683.008524</td>\n",
       "      <td>751888.311091</td>\n",
       "      <td>1000.0</td>\n",
       "      <td>193750.0</td>\n",
       "      <td>373612.0</td>\n",
       "      <td>619301.0</td>\n",
       "      <td>49061236.0</td>\n",
       "    </tr>\n",
       "    <tr>\n",
       "      <th>yearbuilt</th>\n",
       "      <td>52326.0</td>\n",
       "      <td>1963.393820</td>\n",
       "      <td>23.133355</td>\n",
       "      <td>1878.0</td>\n",
       "      <td>1950.0</td>\n",
       "      <td>1961.0</td>\n",
       "      <td>1979.0</td>\n",
       "      <td>2016.0</td>\n",
       "    </tr>\n",
       "    <tr>\n",
       "      <th>quality</th>\n",
       "      <td>33741.0</td>\n",
       "      <td>6.264100</td>\n",
       "      <td>1.716181</td>\n",
       "      <td>1.0</td>\n",
       "      <td>5.0</td>\n",
       "      <td>6.0</td>\n",
       "      <td>8.0</td>\n",
       "      <td>12.0</td>\n",
       "    </tr>\n",
       "    <tr>\n",
       "      <th>fireplaces</th>\n",
       "      <td>7243.0</td>\n",
       "      <td>1.209858</td>\n",
       "      <td>0.512885</td>\n",
       "      <td>1.0</td>\n",
       "      <td>1.0</td>\n",
       "      <td>1.0</td>\n",
       "      <td>1.0</td>\n",
       "      <td>5.0</td>\n",
       "    </tr>\n",
       "    <tr>\n",
       "      <th>lotsize</th>\n",
       "      <td>52073.0</td>\n",
       "      <td>11339.520135</td>\n",
       "      <td>86746.804342</td>\n",
       "      <td>236.0</td>\n",
       "      <td>5583.0</td>\n",
       "      <td>6840.0</td>\n",
       "      <td>8798.0</td>\n",
       "      <td>6971010.0</td>\n",
       "    </tr>\n",
       "    <tr>\n",
       "      <th>pools</th>\n",
       "      <td>11096.0</td>\n",
       "      <td>1.000000</td>\n",
       "      <td>0.000000</td>\n",
       "      <td>1.0</td>\n",
       "      <td>1.0</td>\n",
       "      <td>1.0</td>\n",
       "      <td>1.0</td>\n",
       "      <td>1.0</td>\n",
       "    </tr>\n",
       "    <tr>\n",
       "      <th>garages</th>\n",
       "      <td>18015.0</td>\n",
       "      <td>1.948987</td>\n",
       "      <td>0.549944</td>\n",
       "      <td>0.0</td>\n",
       "      <td>2.0</td>\n",
       "      <td>2.0</td>\n",
       "      <td>2.0</td>\n",
       "      <td>14.0</td>\n",
       "    </tr>\n",
       "    <tr>\n",
       "      <th>fips</th>\n",
       "      <td>52442.0</td>\n",
       "      <td>6049.131917</td>\n",
       "      <td>21.028933</td>\n",
       "      <td>6037.0</td>\n",
       "      <td>6037.0</td>\n",
       "      <td>6037.0</td>\n",
       "      <td>6059.0</td>\n",
       "      <td>6111.0</td>\n",
       "    </tr>\n",
       "  </tbody>\n",
       "</table>\n",
       "</div>"
      ],
      "text/plain": [
       "                 count           mean            std     min       25%  \\\n",
       "bedrooms       52442.0       3.300675       0.949086     0.0       3.0   \n",
       "bathrooms      52442.0       2.299397       1.022764     0.0       2.0   \n",
       "sqft           52360.0    1922.874083    1004.363491   128.0    1268.0   \n",
       "selling_price  52441.0  529683.008524  751888.311091  1000.0  193750.0   \n",
       "yearbuilt      52326.0    1963.393820      23.133355  1878.0    1950.0   \n",
       "quality        33741.0       6.264100       1.716181     1.0       5.0   \n",
       "fireplaces      7243.0       1.209858       0.512885     1.0       1.0   \n",
       "lotsize        52073.0   11339.520135   86746.804342   236.0    5583.0   \n",
       "pools          11096.0       1.000000       0.000000     1.0       1.0   \n",
       "garages        18015.0       1.948987       0.549944     0.0       2.0   \n",
       "fips           52442.0    6049.131917      21.028933  6037.0    6037.0   \n",
       "\n",
       "                    50%       75%         max  \n",
       "bedrooms            3.0       4.0        14.0  \n",
       "bathrooms           2.0       3.0        18.0  \n",
       "sqft             1659.0    2306.0     21929.0  \n",
       "selling_price  373612.0  619301.0  49061236.0  \n",
       "yearbuilt        1961.0    1979.0      2016.0  \n",
       "quality             6.0       8.0        12.0  \n",
       "fireplaces          1.0       1.0         5.0  \n",
       "lotsize          6840.0    8798.0   6971010.0  \n",
       "pools               1.0       1.0         1.0  \n",
       "garages             2.0       2.0        14.0  \n",
       "fips             6037.0    6059.0      6111.0  "
      ]
     },
     "execution_count": 8,
     "metadata": {},
     "output_type": "execute_result"
    }
   ],
   "source": [
    "df.describe().T"
   ]
  },
  {
   "cell_type": "markdown",
   "id": "6d830249",
   "metadata": {},
   "source": [
    "### After examination of the value counts and descriptive stats, my initial cleaning consists of the following:\n",
    "1. It seems that fireplaces, pools and garages are all NaN if they have none.  Therefore, I will replace all their NaNs with a zero.\n",
    "2. I need to investigate the quality score more, as it may be a strong predictor of value, but has a very large number of Nulls.  Quality is a metric from 1 (best) to 12 (worst).  Is there a way to fill in those numbers based on other features?"
   ]
  },
  {
   "cell_type": "markdown",
   "id": "4e8c3bb8",
   "metadata": {},
   "source": [
    "### I used the following general line of code to examine each feature in details to determine where to cut values off: df[df[feature]>n].sort_values(by=feature)\n",
    "\n",
    "##### From this I determined the following to remove some of the larger outliers, to be done in wrangle:\n",
    "1. Set range of bedrooms and bathrooms from 1-6 (0<b<7)\n",
    "2. Remove all listings with a home size greater than 10,000 sqft and less than 400 sqft\n",
    "3. Remove all listings with more than 4 garages (g<5)\n",
    "4. Remove all listing with more than 3 fireplaces (f<4)\n",
    "5. Remove listings with a selling_price greater than \\$10MM or less than 10k\n",
    "6. Remove all listings with a lot size greater than 217,800 sqft (5 acres)\n",
    "7. Also remove all listings with a lot size less than 1/2 the sqft of the home."
   ]
  },
  {
   "cell_type": "markdown",
   "id": "ffec0e9e",
   "metadata": {},
   "source": [
    "##### I also converted fips numbers to the county names (Orange, Ventura and LA) as well as converted all numerical data to integers for computational efficiency."
   ]
  },
  {
   "cell_type": "markdown",
   "id": "2831b9a3",
   "metadata": {},
   "source": [
    "### *Quality Investigation:*\n",
    "\n",
    "In a seperate workbook ('*zillow_quality_feature_investigation.ipynb*') I analyzed the 'buildingqualitytypeid' metric from the database as a 'quality' score.  After examining its impact, I decided not to include it, but it is worth further investigation."
   ]
  },
  {
   "cell_type": "markdown",
   "id": "91b2baf2",
   "metadata": {},
   "source": [
    "# $\\blacksquare$ Univariate Plots and Analysis"
   ]
  },
  {
   "cell_type": "markdown",
   "id": "d5cd7826",
   "metadata": {},
   "source": [
    "##### Wrangle.py combines all the previous prep and cleaning:"
   ]
  },
  {
   "cell_type": "code",
   "execution_count": 9,
   "id": "53692851",
   "metadata": {},
   "outputs": [
    {
     "name": "stdout",
     "output_type": "stream",
     "text": [
      "98.13% of records remain after cleaning.\n",
      "\n",
      "-----\n",
      "\n"
     ]
    }
   ],
   "source": [
    "df = wrangle_zillow()"
   ]
  },
  {
   "cell_type": "markdown",
   "id": "2124ef7c",
   "metadata": {},
   "source": [
    "### I examined the distribution of each numerical variable (found in accompanying workbook) as well as the counts of 2017 sales, by county:"
   ]
  },
  {
   "cell_type": "code",
   "execution_count": 10,
   "id": "292642aa",
   "metadata": {},
   "outputs": [
    {
     "data": {
      "image/png": "[encoded data removed]",
      "text/plain": [
       "<Figure size 432x288 with 1 Axes>"
      ]
     },
     "metadata": {
      "needs_background": "light"
     },
     "output_type": "display_data"
    }
   ],
   "source": [
    "sns.histplot(x='fips_name',data=df)\n",
    "plt.title(\"2017 Home Sales, by County ('fips')\")\n",
    "plt.xlabel('County')\n",
    "plt.ylabel('Transactions')\n",
    "plt.show()"
   ]
  },
  {
   "cell_type": "markdown",
   "id": "2eebc468",
   "metadata": {},
   "source": [
    "## Initial Hypotheses\n",
    "1. Having a fireplace(s), garage(s) and/or pool increases home value.\n",
    "2. Larger lot size increases home value.\n",
    "3. Larger square footage increases home value.\n",
    "4. More bedrooms and bathrooms increase home value.\n",
    "5. There is a difference in home values due to geography."
   ]
  },
  {
   "cell_type": "markdown",
   "id": "ecdf7131",
   "metadata": {},
   "source": [
    "# $\\blacksquare$ Exploratory Data Analysis"
   ]
  },
  {
   "cell_type": "markdown",
   "id": "fde2f077",
   "metadata": {},
   "source": [
    "### First, we must split the data.  I want to ensure an important categorical variable, fips name, is equally distributed across the splits, so I will stratify on fips_name."
   ]
  },
  {
   "cell_type": "code",
   "execution_count": 11,
   "id": "d074ac14",
   "metadata": {},
   "outputs": [
    {
     "name": "stdout",
     "output_type": "stream",
     "text": [
      "Train = 28817 rows (56.0%) | Validate = 12351 rows (24.0%) | Test = 10293 rows (20.0%)\n"
     ]
    },
    {
     "data": {
      "text/html": [
       "<div>\n",
       "<style scoped>\n",
       "    .dataframe tbody tr th:only-of-type {\n",
       "        vertical-align: middle;\n",
       "    }\n",
       "\n",
       "    .dataframe tbody tr th {\n",
       "        vertical-align: top;\n",
       "    }\n",
       "\n",
       "    .dataframe thead th {\n",
       "        text-align: right;\n",
       "    }\n",
       "</style>\n",
       "<table border=\"1\" class=\"dataframe\">\n",
       "  <thead>\n",
       "    <tr style=\"text-align: right;\">\n",
       "      <th></th>\n",
       "      <th>bedrooms</th>\n",
       "      <th>bathrooms</th>\n",
       "      <th>sqft</th>\n",
       "      <th>selling_price</th>\n",
       "      <th>yearbuilt</th>\n",
       "      <th>fireplaces</th>\n",
       "      <th>lotsize</th>\n",
       "      <th>pools</th>\n",
       "      <th>garages</th>\n",
       "      <th>fips_name</th>\n",
       "    </tr>\n",
       "  </thead>\n",
       "  <tbody>\n",
       "    <tr>\n",
       "      <th>44850</th>\n",
       "      <td>3</td>\n",
       "      <td>2</td>\n",
       "      <td>1534</td>\n",
       "      <td>444179</td>\n",
       "      <td>1986</td>\n",
       "      <td>0</td>\n",
       "      <td>5000</td>\n",
       "      <td>0</td>\n",
       "      <td>2</td>\n",
       "      <td>Orange</td>\n",
       "    </tr>\n",
       "    <tr>\n",
       "      <th>37190</th>\n",
       "      <td>3</td>\n",
       "      <td>3</td>\n",
       "      <td>2171</td>\n",
       "      <td>872703</td>\n",
       "      <td>1937</td>\n",
       "      <td>0</td>\n",
       "      <td>10822</td>\n",
       "      <td>0</td>\n",
       "      <td>0</td>\n",
       "      <td>Los Angeles</td>\n",
       "    </tr>\n",
       "  </tbody>\n",
       "</table>\n",
       "</div>"
      ],
      "text/plain": [
       "       bedrooms  bathrooms  sqft  selling_price  yearbuilt  fireplaces  \\\n",
       "44850         3          2  1534         444179       1986           0   \n",
       "37190         3          3  2171         872703       1937           0   \n",
       "\n",
       "       lotsize  pools  garages    fips_name  \n",
       "44850     5000      0        2       Orange  \n",
       "37190    10822      0        0  Los Angeles  "
      ]
     },
     "execution_count": 11,
     "metadata": {},
     "output_type": "execute_result"
    }
   ],
   "source": [
    "train, validate, test = splitter(df, target='fips_name')\n",
    "train.head(2)"
   ]
  },
  {
   "cell_type": "markdown",
   "id": "2482f75f",
   "metadata": {},
   "source": [
    "### I plotted all numerical features against one another to determine any colinear relationships."
   ]
  },
  {
   "cell_type": "code",
   "execution_count": 12,
   "id": "d922d702",
   "metadata": {},
   "outputs": [
    {
     "data": {
      "image/png": "[encoded data removed]",
      "text/plain": [
       "<Figure size 576x576 with 2 Axes>"
      ]
     },
     "metadata": {
      "needs_background": "light"
     },
     "output_type": "display_data"
    }
   ],
   "source": [
    "num_cols = [col for col in train.columns if train[col].dtype != 'object']\n",
    "    \n",
    "# Create a correlation matrix from the continuous numerical columns\n",
    "df_num_cols = train[num_cols]\n",
    "corr = df_num_cols.corr()\n",
    "\n",
    "# Pass correlation matrix on to sns heatmap\n",
    "plt.figure(figsize=(8,8))\n",
    "sns.heatmap(corr, annot=True, cmap=\"flare\", mask=np.triu(corr))\n",
    "plt.show()"
   ]
  },
  {
   "cell_type": "markdown",
   "id": "3e33fd3b",
   "metadata": {},
   "source": [
    ">### *Key Takeaway - sqft and number of bathrooms are highly correlated, and sqft is more closely correlated to selling price than bathrooms, so I feel we can remove bathrooms without losing the information by that feature (since it is wrapped up in sqft)*"
   ]
  },
  {
   "cell_type": "markdown",
   "id": "eed4962e",
   "metadata": {},
   "source": [
    ">### *Also, LA had no fireplaces or garages in it's dataset, so those two features will be removed before further modeling.*"
   ]
  },
  {
   "cell_type": "markdown",
   "id": "b1a798a0",
   "metadata": {},
   "source": [
    "### Next, I sought to answer questions around my initial hypothesis, and plotted all features against the target, performing statistical testing as well:"
   ]
  },
  {
   "cell_type": "code",
   "execution_count": 13,
   "id": "7ec0c33f",
   "metadata": {},
   "outputs": [],
   "source": [
    "import scipy.stats as stats\n",
    "alpha = .05"
   ]
  },
  {
   "cell_type": "markdown",
   "id": "12abd6e7",
   "metadata": {},
   "source": [
    "### *1. Do homes with pools have a higher selling price than homes without?*"
   ]
  },
  {
   "cell_type": "code",
   "execution_count": 14,
   "id": "b885c606",
   "metadata": {},
   "outputs": [
    {
     "data": {
      "image/png": "[encoded data removed]",
      "text/plain": [
       "<Figure size 360x360 with 1 Axes>"
      ]
     },
     "metadata": {
      "needs_background": "light"
     },
     "output_type": "display_data"
    },
    {
     "data": {
      "image/png": "[encoded data removed]",
      "text/plain": [
       "<Figure size 1080x360 with 3 Axes>"
      ]
     },
     "metadata": {
      "needs_background": "light"
     },
     "output_type": "display_data"
    }
   ],
   "source": [
    "sns.lmplot(data = train, x='pools', y='selling_price')\n",
    "sns.lmplot(data = train, x='pools', y='selling_price', col = 'fips_name', hue='fips_name', palette='Paired_r')\n",
    "plt.show()"
   ]
  },
  {
   "cell_type": "markdown",
   "id": "78096787",
   "metadata": {},
   "source": [
    "##### Hypothesis Testing (one-sided, independent t-test):\n",
    "\n",
    "$H_{0}$ = Homes with pools have the same or lower selling_prices than homes without.\n",
    "\n",
    "$H_{1}$ = Homes with pools have a higher selling_price than homes without.\n",
    "\n",
    "Assumptions: (X)Independent | (X) Normal (or 30+ obs) | (?) Equal variances?"
   ]
  },
  {
   "cell_type": "code",
   "execution_count": 15,
   "id": "1bd93bdd",
   "metadata": {},
   "outputs": [
    {
     "name": "stdout",
     "output_type": "stream",
     "text": [
      "625800342706.9453\n",
      "211907368860.61053\n"
     ]
    }
   ],
   "source": [
    "print(train[train['pools']==1].selling_price.var())\n",
    "print(train[train['pools']==0].selling_price.var())"
   ]
  },
  {
   "cell_type": "markdown",
   "id": "66da2fd7",
   "metadata": {},
   "source": [
    "*Must set equal_var to False*"
   ]
  },
  {
   "cell_type": "code",
   "execution_count": 16,
   "id": "0fbdc843",
   "metadata": {},
   "outputs": [
    {
     "name": "stdout",
     "output_type": "stream",
     "text": [
      "t:  30.214300758241915 p:  3.968740832643604e-189\n",
      "Is t < 0?  False\n",
      "is p/2 < alpha?  True\n"
     ]
    }
   ],
   "source": [
    "t, p = stats.ttest_ind(train[train['pools']==1].selling_price, train[train['pools']==0].selling_price, equal_var=False)\n",
    "print('t: ',t,'p: ', p / 2)\n",
    "print(\"Is t < 0? \", t < 0)\n",
    "print(\"is p/2 < alpha? \", p / 2 < alpha)"
   ]
  },
  {
   "cell_type": "markdown",
   "id": "4c691896",
   "metadata": {},
   "source": [
    "We REJECT the null hypothesis that homes with pools have the same or lower selling_prices than homes without. "
   ]
  },
  {
   "cell_type": "markdown",
   "id": "931cc8ee",
   "metadata": {},
   "source": [
    ">### *Key Takeaway: Homes with pools have a higher selling price.*"
   ]
  },
  {
   "cell_type": "markdown",
   "id": "e21cacaa",
   "metadata": {},
   "source": [
    "### *2. Does selling price increase with lot size?*"
   ]
  },
  {
   "cell_type": "code",
   "execution_count": 17,
   "id": "8281d283",
   "metadata": {},
   "outputs": [
    {
     "data": {
      "image/png": "[encoded data removed]",
      "text/plain": [
       "<Figure size 360x360 with 1 Axes>"
      ]
     },
     "metadata": {
      "needs_background": "light"
     },
     "output_type": "display_data"
    },
    {
     "data": {
      "image/png": "[encoded data removed]",
      "text/plain": [
       "<Figure size 1080x360 with 3 Axes>"
      ]
     },
     "metadata": {
      "needs_background": "light"
     },
     "output_type": "display_data"
    }
   ],
   "source": [
    "sns.lmplot(data = train, x='lotsize', y='selling_price')\n",
    "sns.lmplot(data = train, x='lotsize', y='selling_price', col = 'fips_name', hue='fips_name', palette='Paired_r')\n",
    "plt.show()"
   ]
  },
  {
   "cell_type": "markdown",
   "id": "9c8a2b27",
   "metadata": {},
   "source": [
    "##### Hypothesis Testing (Pearson's r correlation):\n",
    "\n",
    "$H_{0}$ = Lot size is not correlated with selling_price.\n",
    "\n",
    "$H_{1}$ = Lot size is correlated with selling_price."
   ]
  },
  {
   "cell_type": "code",
   "execution_count": 18,
   "id": "e91dac31",
   "metadata": {},
   "outputs": [
    {
     "name": "stdout",
     "output_type": "stream",
     "text": [
      "corr:  0.10435347788683007 p:  1.3834226433621537e-70\n",
      "is p/2 < alpha?  True\n"
     ]
    }
   ],
   "source": [
    "corr, p = stats.pearsonr(train.lotsize, train.selling_price)\n",
    "print('corr: ',corr,'p: ',p)\n",
    "print(\"is p/2 < alpha? \", p / 2 < alpha)"
   ]
  },
  {
   "cell_type": "markdown",
   "id": "dc21cc78",
   "metadata": {},
   "source": [
    "We REJECT the null hypothesis that lot size is not correlated with selling price."
   ]
  },
  {
   "cell_type": "markdown",
   "id": "401c141d",
   "metadata": {},
   "source": [
    ">### *Key Takeaway: Selling price increases with lot size.*"
   ]
  },
  {
   "cell_type": "markdown",
   "id": "33a6cbc3",
   "metadata": {},
   "source": [
    "### *3. Does selling price increase with a home's square footage?*"
   ]
  },
  {
   "cell_type": "code",
   "execution_count": 19,
   "id": "594a1a7f",
   "metadata": {},
   "outputs": [
    {
     "data": {
      "image/png": "[encoded data removed]",
      "text/plain": [
       "<Figure size 360x360 with 1 Axes>"
      ]
     },
     "metadata": {
      "needs_background": "light"
     },
     "output_type": "display_data"
    },
    {
     "data": {
      "image/png": "[encoded data removed]",
      "text/plain": [
       "<Figure size 1080x360 with 3 Axes>"
      ]
     },
     "metadata": {
      "needs_background": "light"
     },
     "output_type": "display_data"
    }
   ],
   "source": [
    "sns.lmplot(data = train, x='sqft', y='selling_price')\n",
    "sns.lmplot(data = train, x='sqft', y='selling_price', col = 'fips_name', hue='fips_name', palette='Paired_r')\n",
    "plt.show()"
   ]
  },
  {
   "cell_type": "markdown",
   "id": "a75dccdb",
   "metadata": {},
   "source": [
    "##### Hypothesis Testing (Pearson's r correlation):\n",
    "\n",
    "$H_{0}$ = Square footage of home is not correlated with selling_price.\n",
    "\n",
    "$H_{1}$ = Square footage of home is correlated with selling_price."
   ]
  },
  {
   "cell_type": "code",
   "execution_count": 20,
   "id": "a50ae490",
   "metadata": {},
   "outputs": [
    {
     "name": "stdout",
     "output_type": "stream",
     "text": [
      "corr:  0.5910518561073774 p:  0.0\n",
      "is p/2 < alpha?  True\n"
     ]
    }
   ],
   "source": [
    "corr, p = stats.pearsonr(train.sqft, train.selling_price)\n",
    "print('corr: ',corr,'p: ',p)\n",
    "print(\"is p/2 < alpha? \", p / 2 < alpha)"
   ]
  },
  {
   "cell_type": "markdown",
   "id": "530a80af",
   "metadata": {},
   "source": [
    "We REJECT the null hypothesis that square footage of home is not correlated with selling price."
   ]
  },
  {
   "cell_type": "markdown",
   "id": "7cd249d2",
   "metadata": {},
   "source": [
    ">### *Key Takeaway: Selling price increases with home square footage.*"
   ]
  },
  {
   "cell_type": "markdown",
   "id": "2aea73d4",
   "metadata": {},
   "source": [
    "### *4. Does selling price increase with number of bedrooms?*\n",
    "(Removed number of bathrooms from question)"
   ]
  },
  {
   "cell_type": "code",
   "execution_count": 21,
   "id": "548b9199",
   "metadata": {},
   "outputs": [
    {
     "data": {
      "image/png": "[encoded data removed]",
      "text/plain": [
       "<Figure size 360x360 with 1 Axes>"
      ]
     },
     "metadata": {
      "needs_background": "light"
     },
     "output_type": "display_data"
    },
    {
     "data": {
      "image/png": "[encoded data removed]",
      "text/plain": [
       "<Figure size 1080x360 with 3 Axes>"
      ]
     },
     "metadata": {
      "needs_background": "light"
     },
     "output_type": "display_data"
    }
   ],
   "source": [
    "sns.lmplot(data = train, x='bedrooms', y='selling_price')\n",
    "sns.lmplot(data = train, x='bedrooms', y='selling_price', col = 'fips_name', hue='fips_name', palette='Paired_r')\n",
    "plt.show()"
   ]
  },
  {
   "cell_type": "markdown",
   "id": "6df2d33d",
   "metadata": {},
   "source": [
    "##### Hypothesis Testing (Pearson's r correlation):\n",
    "\n",
    "$H_{0}$ = Bedrooms are not correlated with selling_price.\n",
    "\n",
    "$H_{1}$ = Bedrooms are correlated with selling_price."
   ]
  },
  {
   "cell_type": "code",
   "execution_count": 22,
   "id": "3ea90975",
   "metadata": {},
   "outputs": [
    {
     "name": "stdout",
     "output_type": "stream",
     "text": [
      "corr:  0.2618880816656596 p:  0.0\n",
      "is p/2 < alpha?  True\n"
     ]
    }
   ],
   "source": [
    "corr, p = stats.pearsonr(train.bedrooms, train.selling_price)\n",
    "print('corr: ',corr,'p: ',p)\n",
    "print(\"is p/2 < alpha? \", p / 2 < alpha)"
   ]
  },
  {
   "cell_type": "markdown",
   "id": "1b5b9bf5",
   "metadata": {},
   "source": [
    "We REJECT the null hypothesis that bedrooms are not correlated with selling price."
   ]
  },
  {
   "cell_type": "markdown",
   "id": "f0e296ea",
   "metadata": {},
   "source": [
    ">### *Key Takeaway: Selling price increases with number of bedrooms.*"
   ]
  },
  {
   "cell_type": "markdown",
   "id": "9e8e228e",
   "metadata": {},
   "source": [
    "### *5. Does Orange county have the highest mean selling_price, followed by Ventura and then LA?*"
   ]
  },
  {
   "cell_type": "code",
   "execution_count": 23,
   "id": "20e535bd",
   "metadata": {},
   "outputs": [
    {
     "data": {
      "image/png": "[encoded data removed]",
      "text/plain": [
       "<Figure size 1296x432 with 3 Axes>"
      ]
     },
     "metadata": {
      "needs_background": "light"
     },
     "output_type": "display_data"
    }
   ],
   "source": [
    "plt.figure(figsize = (18,6))\n",
    "plt.subplot(1,3,1)\n",
    "sns.boxplot(data = train, x='fips_name', y='selling_price')\n",
    "plt.subplot(1,3,2)\n",
    "sns.violinplot(data = train, x='fips_name', y='selling_price')\n",
    "plt.subplot(1,3,3)\n",
    "sns.barplot(data = train, x='fips_name', y='selling_price')\n",
    "plt.show()"
   ]
  },
  {
   "cell_type": "markdown",
   "id": "576178ce",
   "metadata": {},
   "source": [
    "##### Hypothesis Testing (multiple one-sided, independent t-tests):\n",
    "\n",
    "$H_{0}$ = [Orange, Ventura] county has the same or lower mean selling prices as [Ventura, Los Angeles] county.\n",
    "\n",
    "$H_{1}$ = [Orange, Ventura] county has a higher mean selling price than [Ventura, Los Angeles] county.\n",
    "\n",
    "Assumptions: (X)Independent | (X) Normal (or 30+ obs) | (?) Equal variances?"
   ]
  },
  {
   "cell_type": "code",
   "execution_count": 24,
   "id": "8145b029",
   "metadata": {
    "scrolled": true
   },
   "outputs": [
    {
     "name": "stdout",
     "output_type": "stream",
     "text": [
      "323491062297.0251\n",
      "123703491206.47647\n",
      "332206493893.728\n"
     ]
    }
   ],
   "source": [
    "print(train[train['fips_name']=='Orange'].selling_price.var())\n",
    "print(train[train['fips_name']=='Ventura'].selling_price.var())\n",
    "print(train[train['fips_name']=='Los Angeles'].selling_price.var())"
   ]
  },
  {
   "cell_type": "markdown",
   "id": "bb10ce74",
   "metadata": {},
   "source": [
    "*While Orange and LA have equal variances, I'll go ahead and set to False when comparing to Ventura*"
   ]
  },
  {
   "cell_type": "markdown",
   "id": "eda25337",
   "metadata": {},
   "source": [
    "1. Orange vs Ventura"
   ]
  },
  {
   "cell_type": "code",
   "execution_count": 25,
   "id": "d858e6ea",
   "metadata": {},
   "outputs": [
    {
     "name": "stdout",
     "output_type": "stream",
     "text": [
      "t:  9.394935151777425 p/2:  3.878429917263677e-21\n",
      "Is t < 0?  False\n",
      "is p/2 < alpha?  True\n"
     ]
    }
   ],
   "source": [
    "t, p = stats.ttest_ind(train[train['fips_name']=='Orange'].selling_price, train[train['fips_name']=='Ventura'].selling_price, equal_var=False)\n",
    "t, p / 2\n",
    "print('t: ',t,'p/2: ',p/2)\n",
    "print(\"Is t < 0? \", t < 0)\n",
    "print(\"is p/2 < alpha? \", p / 2 < alpha)"
   ]
  },
  {
   "cell_type": "markdown",
   "id": "a0f8c454",
   "metadata": {},
   "source": [
    "We REJECT the null hypothesis that Orange has the same or lower selling_prices than Ventura."
   ]
  },
  {
   "cell_type": "code",
   "execution_count": 26,
   "id": "ae4d6e6a",
   "metadata": {},
   "outputs": [
    {
     "name": "stdout",
     "output_type": "stream",
     "text": [
      "t:  4.281993153716442 p/2:  9.464931713388607e-06\n",
      "Is t < 0?  False\n",
      "is p/2 < alpha?  True\n"
     ]
    }
   ],
   "source": [
    "t, p = stats.ttest_ind(train[train['fips_name']=='Ventura'].selling_price, train[train['fips_name']=='Los Angeles'].selling_price, equal_var=False)\n",
    "t, p / 2\n",
    "print('t: ',t,'p/2: ',p/2)\n",
    "print(\"Is t < 0? \", t < 0)\n",
    "print(\"is p/2 < alpha? \", p / 2 < alpha)"
   ]
  },
  {
   "cell_type": "markdown",
   "id": "8419c34d",
   "metadata": {},
   "source": [
    "We REJECT the null hypothesis that Ventura has the same or lower selling_prices than Los Angeles."
   ]
  },
  {
   "cell_type": "markdown",
   "id": "c9da1841",
   "metadata": {},
   "source": [
    ">### *Key Takeaway: Orange county has the highest selling prices, followed byt Ventura and then Los Angeles counties.*"
   ]
  },
  {
   "cell_type": "markdown",
   "id": "f193098f",
   "metadata": {},
   "source": [
    "## EDA Outcomes:"
   ]
  },
  {
   "cell_type": "markdown",
   "id": "ea68a41a",
   "metadata": {},
   "source": [
    "1. Orange county is associated with the highest selling price, then Ventura then LA.\n",
    "2. Bathrooms highly correlated with square footage, and square footage is better correlated with selling prices (increase together), so dropping bathrooms.\n",
    "3. Pools, bedrooms and lot size are correlated with higher selling prices (albeit not as strongly as square footage), so keeping them for model.\n",
    "4. Dropping garages and fireplaces.\n",
    "4. Quality metric seems wrong (higher seems better), was only for LA, and didn't improve an LA-only parallel model, but seems very interesting to explore in the future."
   ]
  },
  {
   "cell_type": "code",
   "execution_count": 27,
   "id": "853cb022",
   "metadata": {},
   "outputs": [],
   "source": [
    "columns_to_remove = ['bathrooms','fireplaces','garages']\n",
    "train = train.drop(columns = columns_to_remove)\n",
    "validate = validate.drop(columns = columns_to_remove)\n",
    "test = test.drop(columns = columns_to_remove)"
   ]
  },
  {
   "cell_type": "markdown",
   "id": "7474632b",
   "metadata": {},
   "source": [
    "# $\\blacksquare$ Feature Engineering"
   ]
  },
  {
   "cell_type": "markdown",
   "id": "de53f5ab",
   "metadata": {},
   "source": [
    "##### Scale and encode the dataset:"
   ]
  },
  {
   "cell_type": "code",
   "execution_count": 28,
   "id": "2e9c8168",
   "metadata": {},
   "outputs": [
    {
     "data": {
      "text/html": [
       "<div>\n",
       "<style scoped>\n",
       "    .dataframe tbody tr th:only-of-type {\n",
       "        vertical-align: middle;\n",
       "    }\n",
       "\n",
       "    .dataframe tbody tr th {\n",
       "        vertical-align: top;\n",
       "    }\n",
       "\n",
       "    .dataframe thead th {\n",
       "        text-align: right;\n",
       "    }\n",
       "</style>\n",
       "<table border=\"1\" class=\"dataframe\">\n",
       "  <thead>\n",
       "    <tr style=\"text-align: right;\">\n",
       "      <th></th>\n",
       "      <th>bedrooms</th>\n",
       "      <th>sqft</th>\n",
       "      <th>yearbuilt</th>\n",
       "      <th>lotsize</th>\n",
       "      <th>pools</th>\n",
       "      <th>fips_name</th>\n",
       "      <th>selling_price</th>\n",
       "      <th>fips_name_Los Angeles</th>\n",
       "      <th>fips_name_Orange</th>\n",
       "      <th>fips_name_Ventura</th>\n",
       "    </tr>\n",
       "  </thead>\n",
       "  <tbody>\n",
       "    <tr>\n",
       "      <th>44850</th>\n",
       "      <td>0.4</td>\n",
       "      <td>0.122440</td>\n",
       "      <td>0.782609</td>\n",
       "      <td>0.005000</td>\n",
       "      <td>0.0</td>\n",
       "      <td>Orange</td>\n",
       "      <td>444179</td>\n",
       "      <td>0</td>\n",
       "      <td>1</td>\n",
       "      <td>0</td>\n",
       "    </tr>\n",
       "    <tr>\n",
       "      <th>37190</th>\n",
       "      <td>0.4</td>\n",
       "      <td>0.191462</td>\n",
       "      <td>0.427536</td>\n",
       "      <td>0.011677</td>\n",
       "      <td>0.0</td>\n",
       "      <td>Los Angeles</td>\n",
       "      <td>872703</td>\n",
       "      <td>1</td>\n",
       "      <td>0</td>\n",
       "      <td>0</td>\n",
       "    </tr>\n",
       "  </tbody>\n",
       "</table>\n",
       "</div>"
      ],
      "text/plain": [
       "       bedrooms      sqft  yearbuilt   lotsize  pools    fips_name  \\\n",
       "44850       0.4  0.122440   0.782609  0.005000    0.0       Orange   \n",
       "37190       0.4  0.191462   0.427536  0.011677    0.0  Los Angeles   \n",
       "\n",
       "       selling_price  fips_name_Los Angeles  fips_name_Orange  \\\n",
       "44850         444179                      0                 1   \n",
       "37190         872703                      1                 0   \n",
       "\n",
       "       fips_name_Ventura  \n",
       "44850                  0  \n",
       "37190                  0  "
      ]
     },
     "execution_count": 28,
     "metadata": {},
     "output_type": "execute_result"
    }
   ],
   "source": [
    "train_scaled, validate_scaled, test_scaled = scale_zillow(train, validate, test)\n",
    "train_scaled.head(2)"
   ]
  },
  {
   "cell_type": "markdown",
   "id": "5192d509",
   "metadata": {},
   "source": [
    "#### Seperate target and features:"
   ]
  },
  {
   "cell_type": "code",
   "execution_count": 29,
   "id": "905e56ab",
   "metadata": {},
   "outputs": [],
   "source": [
    "X_train = train_scaled.drop(columns=['fips_name','selling_price'])\n",
    "y_train = train_scaled.selling_price\n",
    "\n",
    "X_validate = validate_scaled.drop(columns=['fips_name','selling_price'])\n",
    "y_validate = validate_scaled.selling_price\n",
    "\n",
    "X_test = test_scaled.drop(columns=['fips_name','selling_price'])\n",
    "y_test = test_scaled.selling_price"
   ]
  },
  {
   "cell_type": "markdown",
   "id": "08823b78",
   "metadata": {},
   "source": [
    "##### I performed both a SelecKBest and RFE.  RFE ran without issue and is considered superior, so went with it:"
   ]
  },
  {
   "cell_type": "code",
   "execution_count": 30,
   "id": "4bdb99e6",
   "metadata": {},
   "outputs": [
    {
     "data": {
      "text/html": [
       "<div>\n",
       "<style scoped>\n",
       "    .dataframe tbody tr th:only-of-type {\n",
       "        vertical-align: middle;\n",
       "    }\n",
       "\n",
       "    .dataframe tbody tr th {\n",
       "        vertical-align: top;\n",
       "    }\n",
       "\n",
       "    .dataframe thead th {\n",
       "        text-align: right;\n",
       "    }\n",
       "</style>\n",
       "<table border=\"1\" class=\"dataframe\">\n",
       "  <thead>\n",
       "    <tr style=\"text-align: right;\">\n",
       "      <th></th>\n",
       "      <th>Number of Features</th>\n",
       "    </tr>\n",
       "    <tr>\n",
       "      <th>Features</th>\n",
       "      <th></th>\n",
       "    </tr>\n",
       "  </thead>\n",
       "  <tbody>\n",
       "    <tr>\n",
       "      <th>[sqft]</th>\n",
       "      <td>1</td>\n",
       "    </tr>\n",
       "    <tr>\n",
       "      <th>[sqft, fips_name_Ventura]</th>\n",
       "      <td>2</td>\n",
       "    </tr>\n",
       "    <tr>\n",
       "      <th>[sqft, fips_name_Orange, fips_name_Ventura]</th>\n",
       "      <td>3</td>\n",
       "    </tr>\n",
       "    <tr>\n",
       "      <th>[sqft, fips_name_Los Angeles, fips_name_Orange, fips_name_Ventura]</th>\n",
       "      <td>4</td>\n",
       "    </tr>\n",
       "    <tr>\n",
       "      <th>[bedrooms, sqft, fips_name_Los Angeles, fips_name_Orange, fips_name_Ventura]</th>\n",
       "      <td>5</td>\n",
       "    </tr>\n",
       "    <tr>\n",
       "      <th>[bedrooms, sqft, yearbuilt, fips_name_Los Angeles, fips_name_Orange, fips_name_Ventura]</th>\n",
       "      <td>6</td>\n",
       "    </tr>\n",
       "    <tr>\n",
       "      <th>[bedrooms, sqft, yearbuilt, lotsize, fips_name_Los Angeles, fips_name_Orange, fips_name_Ventura]</th>\n",
       "      <td>7</td>\n",
       "    </tr>\n",
       "    <tr>\n",
       "      <th>[bedrooms, sqft, yearbuilt, lotsize, pools, fips_name_Los Angeles, fips_name_Orange, fips_name_Ventura]</th>\n",
       "      <td>8</td>\n",
       "    </tr>\n",
       "  </tbody>\n",
       "</table>\n",
       "</div>"
      ],
      "text/plain": [
       "                                                    Number of Features\n",
       "Features                                                              \n",
       "[sqft]                                                               1\n",
       "[sqft, fips_name_Ventura]                                            2\n",
       "[sqft, fips_name_Orange, fips_name_Ventura]                          3\n",
       "[sqft, fips_name_Los Angeles, fips_name_Orange,...                   4\n",
       "[bedrooms, sqft, fips_name_Los Angeles, fips_na...                   5\n",
       "[bedrooms, sqft, yearbuilt, fips_name_Los Angel...                   6\n",
       "[bedrooms, sqft, yearbuilt, lotsize, fips_name_...                   7\n",
       "[bedrooms, sqft, yearbuilt, lotsize, pools, fip...                   8"
      ]
     },
     "execution_count": 30,
     "metadata": {},
     "output_type": "execute_result"
    }
   ],
   "source": [
    "feature_list = []\n",
    "for i in range(1,9):\n",
    "# initialize the ML algorithm\n",
    "    lm = LinearRegression()\n",
    "\n",
    "    # create the rfe object, indicating the ML object (lm) and the number of features I want to end up with. \n",
    "    rfe = RFE(lm, n_features_to_select=i)\n",
    "\n",
    "    # fit the data using RFE\n",
    "    rfe.fit(X_train,y_train)  \n",
    "\n",
    "    # get the mask of the columns selected\n",
    "    feature_mask = rfe.support_\n",
    "\n",
    "    # get list of the column names. \n",
    "    rfe_feature = X_train.iloc[:,feature_mask].columns.tolist()\n",
    "    results = {'Number of Features' : i,'Features':rfe_feature}\n",
    "    feature_list.append(results)\n",
    "feature_list = pd.DataFrame(feature_list).round(2).set_index('Features')\n",
    "feature_list"
   ]
  },
  {
   "cell_type": "markdown",
   "id": "4841010a",
   "metadata": {},
   "source": [
    "##### Then used an RFE Cross Validation funtion to determine optimal number of features, and it looks like we should model using all of the features."
   ]
  },
  {
   "cell_type": "code",
   "execution_count": 31,
   "id": "a2ee7834",
   "metadata": {},
   "outputs": [
    {
     "name": "stdout",
     "output_type": "stream",
     "text": [
      "['bedrooms', 'sqft', 'yearbuilt', 'lotsize', 'pools', 'fips_name_Los Angeles', 'fips_name_Orange', 'fips_name_Ventura']\n"
     ]
    }
   ],
   "source": [
    "rfecv = RFECV(lm, min_features_to_select = 1)\n",
    "rfecv.fit(X_train, y_train)\n",
    "feature_mask = rfecv.support_\n",
    "rfecv_feature = X_train.iloc[:,feature_mask].columns.tolist()\n",
    "print(rfecv_feature)"
   ]
  },
  {
   "cell_type": "markdown",
   "id": "99bafea1",
   "metadata": {},
   "source": [
    "# $\\blacksquare$ Modeling"
   ]
  },
  {
   "cell_type": "markdown",
   "id": "63bce174",
   "metadata": {},
   "source": [
    "#### BASELINE:"
   ]
  },
  {
   "cell_type": "code",
   "execution_count": 32,
   "id": "be2c5fd5",
   "metadata": {},
   "outputs": [
    {
     "data": {
      "text/html": [
       "<div>\n",
       "<style scoped>\n",
       "    .dataframe tbody tr th:only-of-type {\n",
       "        vertical-align: middle;\n",
       "    }\n",
       "\n",
       "    .dataframe tbody tr th {\n",
       "        vertical-align: top;\n",
       "    }\n",
       "\n",
       "    .dataframe thead th {\n",
       "        text-align: right;\n",
       "    }\n",
       "</style>\n",
       "<table border=\"1\" class=\"dataframe\">\n",
       "  <thead>\n",
       "    <tr style=\"text-align: right;\">\n",
       "      <th></th>\n",
       "      <th>RMSE Train</th>\n",
       "      <th>RMSE Validate</th>\n",
       "    </tr>\n",
       "    <tr>\n",
       "      <th>Model</th>\n",
       "      <th></th>\n",
       "      <th></th>\n",
       "    </tr>\n",
       "  </thead>\n",
       "  <tbody>\n",
       "    <tr>\n",
       "      <th>Baseline Median</th>\n",
       "      <td>577124.18</td>\n",
       "      <td>595999.56</td>\n",
       "    </tr>\n",
       "    <tr>\n",
       "      <th>Baseline Mean</th>\n",
       "      <td>561729.01</td>\n",
       "      <td>579692.60</td>\n",
       "    </tr>\n",
       "  </tbody>\n",
       "</table>\n",
       "</div>"
      ],
      "text/plain": [
       "                 RMSE Train  RMSE Validate\n",
       "Model                                     \n",
       "Baseline Median   577124.18      595999.56\n",
       "Baseline Mean     561729.01      579692.60"
      ]
     },
     "execution_count": 32,
     "metadata": {},
     "output_type": "execute_result"
    }
   ],
   "source": [
    "model_comparator_list = []\n",
    "# We need y_train and y_validate to be dataframes to append the new columns with predicted values. \n",
    "y_train = pd.DataFrame(y_train)\n",
    "y_validate = pd.DataFrame(y_validate)\n",
    "\n",
    "# 1. Predict target_pred_mean\n",
    "selling_price_pred_mean = y_train['selling_price'].mean()\n",
    "y_train['selling_price_pred_mean'] = selling_price_pred_mean\n",
    "y_validate['selling_price_pred_mean'] = selling_price_pred_mean\n",
    "\n",
    "# 2. compute target_pred_median\n",
    "selling_price_pred_median = y_train['selling_price'].median()\n",
    "y_train['selling_price_pred_median'] = selling_price_pred_median\n",
    "y_validate['selling_price_pred_median'] = selling_price_pred_median\n",
    "\n",
    "# 3. RMSE of target_pred_mean\n",
    "rmse_train_mean = mean_squared_error(y_train.selling_price, y_train.selling_price_pred_mean)**(1/2)\n",
    "rmse_validate_mean = mean_squared_error(y_validate.selling_price, y_validate.selling_price_pred_mean)**(1/2)\n",
    "\n",
    "# 4. RMSE of target_pred_median\n",
    "rmse_train_median = mean_squared_error(y_train.selling_price, y_train.selling_price_pred_median)**(1/2)\n",
    "rmse_validate_median = mean_squared_error(y_validate.selling_price, y_validate.selling_price_pred_median)**(1/2)\n",
    "\n",
    "results = {'Model' : 'Baseline Median','RMSE Train':rmse_train_median,'RMSE Validate':rmse_validate_median}\n",
    "model_comparator_list.append(results)\n",
    "results = {'Model' : 'Baseline Mean','RMSE Train':rmse_train_mean,'RMSE Validate':rmse_validate_mean}\n",
    "model_comparator_list.append(results)\n",
    "\n",
    "pd.DataFrame(model_comparator_list).round(2).set_index('Model')"
   ]
  },
  {
   "cell_type": "markdown",
   "id": "467f1c1c",
   "metadata": {},
   "source": [
    "#### MODEL OUTCOME COMPARISON"
   ]
  },
  {
   "cell_type": "code",
   "execution_count": 33,
   "id": "7c5190a5",
   "metadata": {},
   "outputs": [
    {
     "data": {
      "text/html": [
       "<div>\n",
       "<style scoped>\n",
       "    .dataframe tbody tr th:only-of-type {\n",
       "        vertical-align: middle;\n",
       "    }\n",
       "\n",
       "    .dataframe tbody tr th {\n",
       "        vertical-align: top;\n",
       "    }\n",
       "\n",
       "    .dataframe thead th {\n",
       "        text-align: right;\n",
       "    }\n",
       "</style>\n",
       "<table border=\"1\" class=\"dataframe\">\n",
       "  <thead>\n",
       "    <tr style=\"text-align: right;\">\n",
       "      <th>Model</th>\n",
       "      <th>Baseline Median</th>\n",
       "      <th>Baseline Mean</th>\n",
       "      <th>OLS</th>\n",
       "      <th>LassoLars</th>\n",
       "      <th>GLM</th>\n",
       "      <th>Polynomial, Deg. 2</th>\n",
       "      <th>Polynomial, Deg. 3</th>\n",
       "    </tr>\n",
       "  </thead>\n",
       "  <tbody>\n",
       "    <tr>\n",
       "      <th>RMSE Train</th>\n",
       "      <td>577124.18</td>\n",
       "      <td>561729.01</td>\n",
       "      <td>443065.85</td>\n",
       "      <td>443067.19</td>\n",
       "      <td>472870.23</td>\n",
       "      <td>432589.98</td>\n",
       "      <td>425962.84</td>\n",
       "    </tr>\n",
       "    <tr>\n",
       "      <th>RMSE Validate</th>\n",
       "      <td>595999.56</td>\n",
       "      <td>579692.60</td>\n",
       "      <td>465534.57</td>\n",
       "      <td>465540.27</td>\n",
       "      <td>488653.76</td>\n",
       "      <td>458005.34</td>\n",
       "      <td>460517.30</td>\n",
       "    </tr>\n",
       "    <tr>\n",
       "      <th>Overfit %</th>\n",
       "      <td>3.27</td>\n",
       "      <td>3.20</td>\n",
       "      <td>5.07</td>\n",
       "      <td>5.07</td>\n",
       "      <td>3.34</td>\n",
       "      <td>5.88</td>\n",
       "      <td>8.11</td>\n",
       "    </tr>\n",
       "  </tbody>\n",
       "</table>\n",
       "</div>"
      ],
      "text/plain": [
       "Model          Baseline Median  Baseline Mean        OLS  LassoLars  \\\n",
       "RMSE Train           577124.18      561729.01  443065.85  443067.19   \n",
       "RMSE Validate        595999.56      579692.60  465534.57  465540.27   \n",
       "Overfit %                 3.27           3.20       5.07       5.07   \n",
       "\n",
       "Model                GLM  Polynomial, Deg. 2  Polynomial, Deg. 3  \n",
       "RMSE Train     472870.23           432589.98           425962.84  \n",
       "RMSE Validate  488653.76           458005.34           460517.30  \n",
       "Overfit %           3.34                5.88                8.11  "
      ]
     },
     "execution_count": 33,
     "metadata": {},
     "output_type": "execute_result"
    }
   ],
   "source": [
    "model_comparator.zillow_model_comparator(X_train,y_train,X_validate,y_validate)"
   ]
  },
  {
   "cell_type": "markdown",
   "id": "e5692191",
   "metadata": {},
   "source": [
    ">### *2nd degree Polynomial Regression Produces the Best Model*"
   ]
  },
  {
   "cell_type": "markdown",
   "id": "04db13f9",
   "metadata": {},
   "source": [
    "## Test:"
   ]
  },
  {
   "cell_type": "code",
   "execution_count": 34,
   "id": "db9a606c",
   "metadata": {},
   "outputs": [
    {
     "name": "stdout",
     "output_type": "stream",
     "text": [
      "RMSE for OLS Model using LinearRegression\n",
      "Out-of-Sample Performance:  432903.37252654514\n"
     ]
    }
   ],
   "source": [
    "# make the polynomial features to get a new set of features\n",
    "pf = PolynomialFeatures(degree=2)\n",
    "\n",
    "# fit and transform X_train_scaled\n",
    "X_train_degree2 = pf.fit_transform(X_train)\n",
    "\n",
    "# transform X_test_scaled\n",
    "X_test_degree2 = pf.transform(X_test)\n",
    "\n",
    "y_test = pd.DataFrame(y_test)\n",
    "\n",
    "# create the model object\n",
    "lm2 = LinearRegression(normalize=True)\n",
    "\n",
    "# fit the model to our training data. We must specify the column in y_train, \n",
    "# since we have converted it to a dataframe from a series! \n",
    "lm2.fit(X_train_degree2, y_train.selling_price)\n",
    "\n",
    "# predict on test\n",
    "y_test['selling_price_pred_lm'] = lm2.predict(X_test_degree2)\n",
    "\n",
    "# evaluate: rmse\n",
    "rmse_test = mean_squared_error(y_test.selling_price, y_test.selling_price_pred_lm)**(1/2)\n",
    "\n",
    "print(\"RMSE for OLS Model using LinearRegression\\nOut-of-Sample Performance: \", rmse_test)"
   ]
  },
  {
   "cell_type": "markdown",
   "id": "90af62bf",
   "metadata": {},
   "source": [
    "### We got the model down to $433,000, which is a substantial improvement over baseline, but still not that great.  I therefore decided to see if we could do a bit better by taking county - that fips code - out of the model and adding it as a pre-filtering step instead."
   ]
  },
  {
   "cell_type": "code",
   "execution_count": 35,
   "id": "b808fd0b",
   "metadata": {},
   "outputs": [
    {
     "name": "stdout",
     "output_type": "stream",
     "text": [
      "Train = 7789 rows (56.0%) | Validate = 3339 rows (24.0%) | Test = 2782 rows (20.0%)\n",
      "You did not stratify.  If looking to stratify, ensure to add argument: \"target = variable to stratify on\".\n",
      "Orange County Results\n",
      "                    RMSE Train  RMSE Validate  Overfit %\n",
      "Model                                                   \n",
      "Baseline Median      570073.70      596801.10       4.69\n",
      "Baseline Mean        557990.98      581731.01       4.25\n",
      "OLS                  415021.66      439618.18       5.93\n",
      "LassoLars            415022.05      439617.81       5.93\n",
      "GLM                  404426.58      439462.08       8.66\n",
      "Polynomial, Deg. 2   391402.74      497610.02      27.14\n",
      "Polynomial, Deg. 3   377962.87     3225166.88     753.30\n",
      "\n",
      "-----\n",
      "\n",
      "Train = 2395 rows (56.0%) | Validate = 1027 rows (24.0%) | Test = 856 rows (20.0%)\n",
      "You did not stratify.  If looking to stratify, ensure to add argument: \"target = variable to stratify on\".\n",
      "Ventura County Results\n",
      "                    RMSE Train  RMSE Validate  Overfit %\n",
      "Model                                                   \n",
      "Baseline Median      352951.95      334357.59      -5.27\n",
      "Baseline Mean        348575.47      332720.58      -4.55\n",
      "OLS                  220722.59      226646.80       2.68\n",
      "LassoLars            220722.74      226648.28       2.68\n",
      "GLM                  216603.07      220671.00       1.88\n",
      "Polynomial, Deg. 2   211934.30      226646.32       6.94\n",
      "Polynomial, Deg. 3   188785.87      303805.53      60.93\n",
      "\n",
      "-----\n",
      "\n",
      "Train = 18632 rows (56.0%) | Validate = 7986 rows (24.0%) | Test = 6655 rows (20.0%)\n",
      "You did not stratify.  If looking to stratify, ensure to add argument: \"target = variable to stratify on\".\n",
      "Los Angeles Country Results\n",
      "                    RMSE Train  RMSE Validate     Overfit %\n",
      "Model                                                      \n",
      "Baseline Median      609751.49   5.972971e+05 -2.040000e+00\n",
      "Baseline Mean        591045.52   5.760905e+05 -2.530000e+00\n",
      "OLS                  480476.65   4.532699e+05 -5.660000e+00\n",
      "LassoLars            480477.39   4.532847e+05 -5.660000e+00\n",
      "GLM                  491136.17   4.529213e+05 -7.780000e+00\n",
      "Polynomial, Deg. 2   469244.89   8.095221e+11  1.725158e+08\n",
      "Polynomial, Deg. 3   464172.01   2.716801e+14  5.853005e+10\n",
      "\n",
      "-----\n",
      "\n"
     ]
    }
   ],
   "source": [
    "model_comparator.count_filtered(df)"
   ]
  },
  {
   "cell_type": "markdown",
   "id": "e861b425",
   "metadata": {},
   "source": [
    "# $\\blacksquare$ Conclusions"
   ]
  },
  {
   "cell_type": "markdown",
   "id": "4b33a46e",
   "metadata": {},
   "source": [
    "## What increases a home's selling price?\n",
    "- Location has the biggest impact on selling price. \n",
    "- Across all geographies, square footage is the best predictor of selling price.\n",
    "- Lot size, having a pool, and number of bedrooms also impacts selling price. "
   ]
  },
  {
   "cell_type": "markdown",
   "id": "39905e46",
   "metadata": {},
   "source": [
    "## Model Effectiveness\n",
    "- From a modeling standpoint, a 2nd degree polynomial is the best when looking at all the data.\n",
    "- However, for more granularity and better model outcomes, each county has different optimal models (LassoLars, GLM)"
   ]
  },
  {
   "cell_type": "markdown",
   "id": "682895bc",
   "metadata": {},
   "source": [
    "## Recommendations\n",
    "- In addition to modeling by county or other geographic metric, models could be vastly improved if price tranched as well (i.e homes < 500k, 500k-1MM, etc.).  This of course relies on having enough training data present.\n",
    "- The quality metric offered improvements over the current model, but is small and we only had these scores for LA.  This could be a really powerful predictor if done right.  Maybe have some kind of standardized model based on ML techniques using such things a photographs of the home."
   ]
  }
 ],
 "metadata": {
  "kernelspec": {
   "display_name": "Python 3 (ipykernel)",
   "language": "python",
   "name": "python3"
  },
  "language_info": {
   "codemirror_mode": {
    "name": "ipython",
    "version": 3
   },
   "file_extension": ".py",
   "mimetype": "text/x-python",
   "name": "python",
   "nbconvert_exporter": "python",
   "pygments_lexer": "ipython3",
   "version": "3.9.7"
  }
 },
 "nbformat": 4,
 "nbformat_minor": 5
}
